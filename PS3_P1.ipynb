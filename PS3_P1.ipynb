{
 "cells": [
  {
   "cell_type": "markdown",
   "id": "cc7a6640",
   "metadata": {},
   "source": [
    "## Econometrics - PS3\n",
    "#### Adrien Rousset Planat\n",
    "arousset@london.edu\n"
   ]
  },
  {
   "cell_type": "code",
   "execution_count": 3,
   "id": "bf0d4f71",
   "metadata": {},
   "outputs": [],
   "source": [
    "import pandas as pd\n",
    "import numpy as np"
   ]
  },
  {
   "cell_type": "code",
   "execution_count": 4,
   "id": "d7e17a4b",
   "metadata": {},
   "outputs": [],
   "source": [
    "data_path=\"/Users/adrienroussetplanat/Library/CloudStorage/Dropbox/PhD/Courses/Econometrics_I/PS/\""
   ]
  },
  {
   "cell_type": "markdown",
   "id": "da0f6d37",
   "metadata": {},
   "source": [
    "## Problem 1 \n",
    "### (d)"
   ]
  },
  {
   "cell_type": "code",
   "execution_count": 25,
   "id": "9bbc750e",
   "metadata": {},
   "outputs": [],
   "source": [
    "df = pd.read_excel(data_path+'SP500Index.xlsx')\n",
    "df = df.rename(columns={'Date of Observation': 'date'})\n",
    "df = df.rename(columns={'Level of the S&P 500 Index': 'sp500'})\n",
    "df['date'] = pd.to_datetime(df['date'], format='%Y%m%d')\n",
    "df['xt'] = np.log(df.sp500) - np.log(df.sp500.iloc[0])"
   ]
  },
  {
   "cell_type": "code",
   "execution_count": 35,
   "id": "950b68c9",
   "metadata": {},
   "outputs": [],
   "source": [
    "delta=df.iloc[-1].xt/len(df)"
   ]
  },
  {
   "cell_type": "code",
   "execution_count": 75,
   "id": "6fcacb79",
   "metadata": {},
   "outputs": [
    {
     "name": "stdout",
     "output_type": "stream",
     "text": [
      "Mean monthly return on SP500 index between Jan 1960 and June 2018 is 0.005540490988253315\n"
     ]
    }
   ],
   "source": [
    "print(\"Mean monthly return on SP500 index between Jan 1960 and June 2018 is\",delta)"
   ]
  },
  {
   "cell_type": "code",
   "execution_count": 76,
   "id": "4c26f8c5",
   "metadata": {},
   "outputs": [
    {
     "name": "stdout",
     "output_type": "stream",
     "text": [
      "Volatilty of return on SP500 index between Jan 1960 and June 2018 is 0.04215029312565144\n"
     ]
    }
   ],
   "source": [
    "sigma2 = np.sqrt(((1/len(df))*(df['xt'] - df['xt'].shift(1) - delta)**2).sum())\n",
    "print(\"Volatilty of return on SP500 index between Jan 1960 and June 2018 is\",sigma2 )"
   ]
  },
  {
   "cell_type": "code",
   "execution_count": 77,
   "id": "ac7d87dc",
   "metadata": {},
   "outputs": [
    {
     "data": {
      "text/plain": [
       "7.607681921154007"
      ]
     },
     "execution_count": 77,
     "metadata": {},
     "output_type": "execute_result"
    }
   ],
   "source": [
    "sigma2/delta"
   ]
  },
  {
   "cell_type": "code",
   "execution_count": null,
   "id": "ddca101e",
   "metadata": {},
   "outputs": [],
   "source": []
  }
 ],
 "metadata": {
  "kernelspec": {
   "display_name": "Python 3 (ipykernel)",
   "language": "python",
   "name": "python3"
  },
  "language_info": {
   "codemirror_mode": {
    "name": "ipython",
    "version": 3
   },
   "file_extension": ".py",
   "mimetype": "text/x-python",
   "name": "python",
   "nbconvert_exporter": "python",
   "pygments_lexer": "ipython3",
   "version": "3.10.5"
  }
 },
 "nbformat": 4,
 "nbformat_minor": 5
}
